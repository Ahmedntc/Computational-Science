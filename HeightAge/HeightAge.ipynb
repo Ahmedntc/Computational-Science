{
 "cells": [
  {
   "cell_type": "markdown",
   "id": "6590cfe1",
   "metadata": {},
   "source": [
    "Calculando a media de um array Numpy\n",
    "\n",
    "altura.txt contém altura e anos.txt o ano de nascimento, ambos arquivos têm o mesmo tamanho e estão relacionados por id "
   ]
  },
  {
   "cell_type": "markdown",
   "id": "c837319b",
   "metadata": {},
   "source": [
    "Carregando os arquivos para dentro de um Array"
   ]
  },
  {
   "cell_type": "code",
   "execution_count": 7,
   "id": "b99834da",
   "metadata": {},
   "outputs": [],
   "source": [
    "import numpy as np \n",
    "\n",
    "altura = np.loadtxt('txt/altura.txt')\n",
    "\n",
    "idade = np.loadtxt('txt/anos.txt')"
   ]
  },
  {
   "cell_type": "markdown",
   "id": "8e4d49fd",
   "metadata": {},
   "source": [
    "Fazemos uma comparação para encontrar todos os ids de quem nasceu entre 1998 e 2005.\n",
    "\n",
    "Essa compraração nos retornará True ou False.\n"
   ]
  },
  {
   "cell_type": "code",
   "execution_count": 8,
   "id": "4d839205",
   "metadata": {},
   "outputs": [],
   "source": [
    "idade = np.logical_and(idade >=1998, idade<=2005)"
   ]
  },
  {
   "cell_type": "markdown",
   "id": "60f5f60e",
   "metadata": {},
   "source": [
    "Usamos np.nonzero para extrair os ids onde a comparação era True"
   ]
  },
  {
   "cell_type": "code",
   "execution_count": 9,
   "id": "bc20c046",
   "metadata": {},
   "outputs": [],
   "source": [
    "\n",
    "idade = np.nonzero(idade)"
   ]
  },
  {
   "cell_type": "markdown",
   "id": "877571c3",
   "metadata": {},
   "source": [
    "Pegamos o array altura e alteramos ele para que apenas os indices com idades válidas permaneçam"
   ]
  },
  {
   "cell_type": "code",
   "execution_count": 10,
   "id": "38d91dc6",
   "metadata": {},
   "outputs": [],
   "source": [
    "altura = np.take(altura, idade)"
   ]
  },
  {
   "cell_type": "markdown",
   "id": "0f07ed3a",
   "metadata": {},
   "source": [
    "Calculamos a media de altura do array"
   ]
  },
  {
   "cell_type": "code",
   "execution_count": 11,
   "id": "0849c1ad",
   "metadata": {},
   "outputs": [],
   "source": [
    "mediaH = np.average(altura)"
   ]
  },
  {
   "cell_type": "code",
   "execution_count": 12,
   "id": "615afaa1",
   "metadata": {},
   "outputs": [
    {
     "name": "stdout",
     "output_type": "stream",
     "text": [
      "1.807064946148955\n"
     ]
    }
   ],
   "source": [
    "print(mediaH)"
   ]
  }
 ],
 "metadata": {
  "kernelspec": {
   "display_name": "Python 3 (ipykernel)",
   "language": "python",
   "name": "python3"
  },
  "language_info": {
   "codemirror_mode": {
    "name": "ipython",
    "version": 3
   },
   "file_extension": ".py",
   "mimetype": "text/x-python",
   "name": "python",
   "nbconvert_exporter": "python",
   "pygments_lexer": "ipython3",
   "version": "3.8.10"
  },
  "vscode": {
   "interpreter": {
    "hash": "532a527441a1ab5e26ef77b71d64886225ea381e232b686200b02f02d7fd1220"
   }
  }
 },
 "nbformat": 4,
 "nbformat_minor": 5
}
