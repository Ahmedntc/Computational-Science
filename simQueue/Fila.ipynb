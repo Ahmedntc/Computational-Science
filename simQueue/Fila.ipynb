{
 "cells": [
  {
   "cell_type": "code",
   "execution_count": null,
   "metadata": {},
   "outputs": [],
   "source": [
    "import simpy\n",
    "import numpy as np;\n",
    "from scipy.stats import norm;\n",
    "from scipy.stats import poisson;"
   ]
  },
  {
   "cell_type": "code",
   "execution_count": null,
   "metadata": {},
   "outputs": [],
   "source": [
    "# listas de horários de chegada e saída dos postos\n",
    "chegadas, saidas = [],[]\n",
    "\n",
    "# listas de horários de chegada e saída das filas\n",
    "in_queue, in_system  = [],[]\n",
    "\n",
    "# tempo na fila e tamanho das filas\n",
    "horarios_nas_filas, tamanho_da_fila = [],[]"
   ]
  },
  {
   "cell_type": "code",
   "execution_count": null,
   "metadata": {},
   "outputs": [],
   "source": [
    "# preparamos o ambiente \n",
    "env = simpy.Environment()\n",
    "TEMPO_DE_SIMULACAO  = 40 \n",
    "np.random.seed(seed = 1)   \n",
    "QUANTIDADE_DE_CAMINHOES = 2     \n",
    "MEDIA_CHEGADA_CAMINHOES = 3\n",
    "MEDIA_DESCARGA_CAMINHOES = 9.0\n",
    "DESVIO_DESCARGA_CAMINHOES = 3.0\n",
    "docas = simpy.Resource(env, capacity = QUANTIDADE_DE_CAMINHOES)"
   ]
  },
  {
   "cell_type": "code",
   "execution_count": null,
   "metadata": {},
   "outputs": [],
   "source": [
    "# Salvamos informações da simulação em dado tempo (env_now)\n",
    "def salva_info_da_fila(env, docas):\n",
    "    horario_medicao = env.now\n",
    "    tamanho_da_fila_agora = len(cais.queue)\n",
    "    horarios_nas_filas.append(horario_medicao)\n",
    "    tamanho_da_fila.append(tamanho_da_fila_agora)\n",
    "    return horario_medicao"
   ]
  },
  {
   "cell_type": "code",
   "execution_count": null,
   "metadata": {},
   "outputs": [],
   "source": [
    "def distribuicao_chegada_de_caminhoes():\n",
    "  tempo_do_proximo_caminhao = expon.rvs(scale = MEDIA_CHEGADA_CAMINHOES, size = 1)\n",
    "  return tempo_do_proximo_caminhao"
   ]
  },
  {
   "cell_type": "code",
   "execution_count": null,
   "metadata": {},
   "outputs": [],
   "source": [
    "def calcula_tempo_no_sistema(env, horario_chegada):\n",
    "  horario_saida = env.now\n",
    "  saidas.append(horario_saida)\n",
    "  tempo_total = horario_saida - horario_chegada\n",
    "  in_system.append(tempo_total)"
   ]
  }
 ],
 "metadata": {
  "language_info": {
   "name": "python"
  },
  "orig_nbformat": 4
 },
 "nbformat": 4,
 "nbformat_minor": 2
}
